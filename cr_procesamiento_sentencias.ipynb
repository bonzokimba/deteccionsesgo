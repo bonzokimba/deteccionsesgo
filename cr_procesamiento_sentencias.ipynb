{
 "cells": [
  {
   "cell_type": "code",
   "execution_count": 1,
   "metadata": {
    "executionInfo": {
     "elapsed": 88233,
     "status": "ok",
     "timestamp": 1713113368869,
     "user": {
      "displayName": "christian ratovicius",
      "userId": "17402161155231555583"
     },
     "user_tz": 180
    },
    "id": "0ViI4nZ2B6gQ"
   },
   "outputs": [],
   "source": [
    "# Importo las librerias\n",
    "import pandas as pd\n",
    "import spacy\n",
    "from tqdm.notebook import tqdm\n",
    "import re\n",
    "# si no instalo esto no puedo seguir despues\n",
    "!pip install spacy &> /dev/null\n",
    "!python -m spacy download es_core_news_lg &> /dev/null\n",
    "from collections import Counter\n",
    "import nltk\n",
    "import seaborn as sns"
   ]
  },
  {
   "cell_type": "code",
   "execution_count": 2,
   "metadata": {
    "colab": {
     "base_uri": "https://localhost:8080/"
    },
    "executionInfo": {
     "elapsed": 26954,
     "status": "ok",
     "timestamp": 1713113400308,
     "user": {
      "displayName": "christian ratovicius",
      "userId": "17402161155231555583"
     },
     "user_tz": 180
    },
    "id": "7CWyQZ6Sgknw",
    "outputId": "eea37529-c21e-430e-f3e2-2d8b8cc3f2b2"
   },
   "outputs": [
    {
     "name": "stdout",
     "output_type": "stream",
     "text": [
      "Mounted at /content/drive\n"
     ]
    }
   ],
   "source": [
    "from google.colab import drive\n",
    "drive.mount('/content/drive')"
   ]
  },
  {
   "cell_type": "code",
   "execution_count": null,
   "metadata": {
    "colab": {
     "base_uri": "https://localhost:8080/",
     "height": 597
    },
    "executionInfo": {
     "elapsed": 1292,
     "status": "ok",
     "timestamp": 1713113401596,
     "user": {
      "displayName": "christian ratovicius",
      "userId": "17402161155231555583"
     },
     "user_tz": 180
    },
    "id": "actUHwaJgly-",
    "outputId": "5a712ba2-0954-4de1-9df4-fd8b2ca6ba0c"
   },
   "outputs": [],
   "source": [
    "path='/content/drive/MyDrive/xxxxxxxxxxxxxxxxxxxxxxxxxx/'\n",
    "df_sentencias = pd.read_json(path + 'sentences_XXXXXXXXXXXXXXXXXXX.jsonl',lines=True)\n",
    "df_sentencias['bias'] = [1 if len(x) > 0 else 0 for x in df_sentencias['highlight']]\n",
    "aa = df_sentencias.groupby('doc')[['bias']].sum()\n",
    "df = df_sentencias[df_sentencias['doc'].isin(aa[aa['bias'] > 0].index)]\n",
    "df"
   ]
  },
  {
   "cell_type": "code",
   "execution_count": null,
   "metadata": {
    "colab": {
     "base_uri": "https://localhost:8080/"
    },
    "executionInfo": {
     "elapsed": 53,
     "status": "ok",
     "timestamp": 1713113695859,
     "user": {
      "displayName": "christian ratovicius",
      "userId": "17402161155231555583"
     },
     "user_tz": 180
    },
    "id": "u9EQGRMjCQog",
    "outputId": "7bc8c7c3-b74a-4af4-fa07-e369eca3e606"
   },
   "outputs": [],
   "source": [
    "# Apply a first round of text cleaning techniques\n",
    "import re\n",
    "import string\n",
    "\n",
    "def clean_text_round1(text):\n",
    "    '''Make text lowercase, remove text in square brackets, remove punctuation and remove words containing numbers.'''\n",
    "    text = text.lower()\n",
    "    text = re.sub('\\[.*?¿\\]\\%', ' ', text)\n",
    "    text = re.sub('[%s]' % re.escape(string.punctuation), ' ', text)\n",
    "    text = re.sub('\\w*\\d\\w*', '', text)\n",
    "    return text\n",
    "\n",
    "round1 = lambda x: clean_text_round1(x)\n",
    "\n",
    "#data_clean = pd.DataFrame(df.text.apply(round1))\n",
    "df['text_clean'] = df.text.apply(round1)\n",
    "\n",
    "# Apply a second round of cleaning\n",
    "def clean_text_round2(text):\n",
    "    \n",
    "    text = re.sub('[‘’“”…«»°]', '', text)\n",
    "    text = re.sub('\\n', ' ', text)\n",
    "    text = \" \".join(text.split())\n",
    "    return text\n",
    "\n",
    "round2 = lambda x: clean_text_round2(x)\n",
    "\n",
    "#data_clean = pd.DataFrame(data_clean.text.apply(round2))\n",
    "#data_clean\n",
    "df['text_clean'] = df.text_clean.apply(round2)\n"
   ]
  },
  {
   "cell_type": "code",
   "execution_count": null,
   "metadata": {
    "id": "vuoz0SsLiM-O"
   },
   "outputs": [],
   "source": [
    "df['text_clean'] = df['text_clean'].apply(lambda x: ' '.join([w for w in x.split() if len(w) > 3]))\n",
    "df"
   ]
  },
  {
   "cell_type": "code",
   "execution_count": null,
   "metadata": {
    "colab": {
     "base_uri": "https://localhost:8080/"
    },
    "executionInfo": {
     "elapsed": 927,
     "status": "ok",
     "timestamp": 1713113823697,
     "user": {
      "displayName": "christian ratovicius",
      "userId": "17402161155231555583"
     },
     "user_tz": 180
    },
    "id": "nonemSMmbCcs",
    "outputId": "83b9bcea-466f-44a7-c290-bca7bfae7a00"
   },
   "outputs": [],
   "source": [
    "nltk.download('stopwords')\n",
    "stopword = nltk.corpus.stopwords.words('spanish')\n",
    "df['text_clean'] = df['text_clean'].apply(lambda x: ' '.join([word for word in x.split() if word not in (stopword)]))\n",
    "\n"
   ]
  },
  {
   "cell_type": "code",
   "execution_count": null,
   "metadata": {
    "executionInfo": {
     "elapsed": 11,
     "status": "ok",
     "timestamp": 1713113836824,
     "user": {
      "displayName": "christian ratovicius",
      "userId": "17402161155231555583"
     },
     "user_tz": 180
    },
    "id": "0rlQAFVMbCZH"
   },
   "outputs": [],
   "source": [
    "\n",
    "from collections import Counter\n",
    "a = Counter(\" \".join(df[\"text_clean\"]).split()).most_common(50)\n",
    "for v in a:\n",
    "  stopword.append((v[0])) ## 30\n"
   ]
  },
  {
   "cell_type": "code",
   "execution_count": null,
   "metadata": {
    "colab": {
     "base_uri": "https://localhost:8080/",
     "height": 860
    },
    "executionInfo": {
     "elapsed": 1544,
     "status": "ok",
     "timestamp": 1713113895179,
     "user": {
      "displayName": "christian ratovicius",
      "userId": "17402161155231555583"
     },
     "user_tz": 180
    },
    "id": "LAWA-JBCbCVQ",
    "outputId": "1e3b9bc8-bc82-4734-c8cf-e438e666ab47"
   },
   "outputs": [],
   "source": [
    "df['text_clean'] = df['text_clean'].apply(lambda x: ' '.join([word for word in x.split() if word not in (stopword)]))\n",
    "df"
   ]
  },
  {
   "cell_type": "code",
   "execution_count": 11,
   "metadata": {
    "executionInfo": {
     "elapsed": 2853,
     "status": "ok",
     "timestamp": 1713113920267,
     "user": {
      "displayName": "christian ratovicius",
      "userId": "17402161155231555583"
     },
     "user_tz": 180
    },
    "id": "FF-xWsD9wxIR"
   },
   "outputs": [],
   "source": [
    "from nltk import SnowballStemmer #importo el modulo de stemmer\n",
    "\n",
    "nlp = spacy.load(\"es_core_news_lg\")\n",
    "ss = SnowballStemmer(u'spanish')"
   ]
  },
  {
   "cell_type": "code",
   "execution_count": null,
   "metadata": {
    "colab": {
     "base_uri": "https://localhost:8080/",
     "height": 49,
     "referenced_widgets": [
      "caff6f49c2be409a88745d819d0c3b8b",
      "bf3dcdbea7ad4501a14508ad8e921a07",
      "1874fcfd1e024ef2b3d8b78d152ecea7",
      "364bd0c93f44430fa477fe6aa0ba287d",
      "bcdd310a644b4718940ef9f603ca6a81",
      "5d6155d88aee4b85802dfb94776e92cc",
      "6a33835458e04c0e8c38b2eb412e5f51",
      "c18c346664ce416197f2856038977476",
      "b3de815be8b54803b4373fb69289602d",
      "7048886528b84063b1a357668e6006c4",
      "f75c0494d6d44559bb640dd4c0818348"
     ]
    },
    "executionInfo": {
     "elapsed": 40467,
     "status": "ok",
     "timestamp": 1713114042968,
     "user": {
      "displayName": "christian ratovicius",
      "userId": "17402161155231555583"
     },
     "user_tz": 180
    },
    "id": "5gm4x9UAviTh",
    "outputId": "b862e4da-5010-4fdb-ee7a-37f236789904"
   },
   "outputs": [],
   "source": [
    "# no necesariamente el procesamiento que está acá es definitivo, era solo porque como recorría todo una vez, mejor que se\n",
    "# haga todo junto\n",
    "\n",
    "from collections import deque\n",
    "import os\n",
    "\n",
    "df_proc = pd.DataFrame(columns=['doc','text_original','text_clean','verbs','adj','nouns','nouns_masc','nouns_fem','masc','fem','verbs_lemmas','adj_lemmas','adj_lemmas_gender',\n",
    "                                'adj_stems', 'text_stem','text_lemma','text_lemma_gender','text_stem_only_adj_verb','label'])\n",
    "df_proc\n",
    "\n",
    "for i in tqdm(range(len(df_proc),len(df))):\n",
    "    pdf = df['doc'].values[i]\n",
    "    parrafo = df['text_clean'].values[i].strip().lower()\n",
    "    parrafo = re.sub('\\.+','',parrafo)\n",
    "    doc = nlp(parrafo)\n",
    "    v = deque() # crear el dict acá capaz que sea más limpio para el resto del código...\n",
    "    v_lemma = deque()\n",
    "    a = deque()\n",
    "    a_lemma = deque()\n",
    "    a_lemma_g = deque()\n",
    "    a_stem = deque()\n",
    "    lemmas = deque()\n",
    "    lemmas_g = deque()\n",
    "    stems = deque()\n",
    "    nouns = deque()\n",
    "    stem_g_only = deque()\n",
    "    masc = deque()\n",
    "    fem = deque()\n",
    "    nouns_masc = deque()\n",
    "    nouns_fem = deque()\n",
    "    for s in doc.sents:\n",
    "        for t in s:\n",
    "            if 'PUNCT' == t.pos_: #ver si está bien\n",
    "                continue\n",
    "            gen = t.morph.to_dict().get('Gender')\n",
    "            lemmas.append(t.lemma_)\n",
    "            lemmas_g.append(t.lemma_)\n",
    "            stems.append(ss.stem(t.text))\n",
    "            stem_g_only.append(t.text)\n",
    "            if t.tag_.startswith('V'):\n",
    "                v.append(t.text)\n",
    "                v_lemma.append(t.lemma_)\n",
    "                stem_g_only[-1] = t.lemma_\n",
    "            elif t.tag_.startswith('ADJ'):\n",
    "                    a.append(t.text)\n",
    "                    a_stem.append(stems[-1])\n",
    "                    a_lemma.append(t.lemma_)\n",
    "                    a_lemma_g.append(t.lemma_)\n",
    "                    stem_g_only[-1] = stems[-1]\n",
    "                    if t.lemma_.endswith('o') or t.lemma_.endswith('a'): # tratar de sacar el género\n",
    "                        a_lemma_g[-1] = t.lemma_[0:-1]\n",
    "                        lemmas_g[-1] = t.lemma_[0:-1]\n",
    "            elif t.tag_.startswith('NOUN'):\n",
    "                nouns.append(t.text)\n",
    "                if gen is not None:\n",
    "                    if gen == 'Masc':\n",
    "                        nouns_masc.append(t.text)\n",
    "                    else:\n",
    "                        nouns_fem.append(t.text)\n",
    "\n",
    "            if gen is not None:\n",
    "                if gen == 'Masc':\n",
    "                    masc.append(t.text)\n",
    "                else:\n",
    "                    fem.append(t.text)\n",
    "\n",
    "    df_proc = pd.concat([df_proc,\n",
    "                          pd.DataFrame([{'doc': pdf, 'text_original' : df['text'].values[i].strip(), 'text_clean':parrafo, 'verbs':list(v),'adj':list(a),'nouns':list(nouns),'nouns_masc':list(nouns_masc),'nouns_fem':list(nouns_fem),'masc':list(masc),'fem':list(fem),'verbs_lemmas':list(v_lemma),'adj_stems':list(a_stem),'adj_lemmas':list(a_lemma),'adj_lemmas_gender':list(a_lemma_g),'text_stem':list(stems),'text_lemma':list(lemmas),'text_lemma_gender':list(lemmas_g), 'text_stem_gender_only_adj_verb':list(stem_g_only),'label':df['bias'].values[i]}])\n",
    "                         ],axis=0)\n",
    "\n",
    "# TODO: Se puede guardar en un pickle para no tener que procesar todo de nuevo, lo que puede ser largo"
   ]
  },
  {
   "cell_type": "code",
   "execution_count": null,
   "metadata": {
    "colab": {
     "base_uri": "https://localhost:8080/",
     "height": 1000
    },
    "id": "TbN3Y8jQZM4t",
    "outputId": "1b284d57-452b-46ec-e1b0-3c87dcf98834"
   },
   "outputs": [],
   "source": [
    "df_proc"
   ]
  },
  {
   "cell_type": "code",
   "execution_count": null,
   "metadata": {
    "colab": {
     "base_uri": "https://localhost:8080/"
    },
    "executionInfo": {
     "elapsed": 898,
     "status": "ok",
     "timestamp": 1713114206956,
     "user": {
      "displayName": "christian ratovicius",
      "userId": "17402161155231555583"
     },
     "user_tz": 180
    },
    "id": "gUcPM8x5x1M2",
    "outputId": "47814dbd-b94b-4bc3-bb5f-b500fa2cb717"
   },
   "outputs": [],
   "source": [
    "#saving the df into pickle format\n",
    "df_proc.to_pickle('df_proc_cr_sentence.pkl')\n",
    "dftest = pd.read_pickle('df_proc_cr_sentence.pkl')\n",
    "dftest.info()\n",
    "dftest.info()"
   ]
  },
  {
   "cell_type": "code",
   "execution_count": null,
   "metadata": {
    "id": "wpAI_8yhLxYw"
   },
   "outputs": [],
   "source": [
    "def merge_label_sesgo(row):\n",
    "   # print (row[2])\n",
    "    if len(row[2]) > 0: #si hay algo en el campo hig considero q tiene sesgo\n",
    "       # print('fdf')\n",
    "        label = 1\n",
    "    else:\n",
    "        label = 0\n",
    "    return label"
   ]
  }
 ],
 "metadata": {
  "colab": {
   "provenance": []
  },
  "kernelspec": {
   "display_name": "Python 3",
   "name": "python3"
  },
  "language_info": {
   "name": "python"
  },
  "widgets": {
   "application/vnd.jupyter.widget-state+json": {
    "0855e0558a51474da9a33c36a0519297": {
     "model_module": "@jupyter-widgets/base",
     "model_module_version": "1.2.0",
     "model_name": "LayoutModel",
     "state": {
      "_model_module": "@jupyter-widgets/base",
      "_model_module_version": "1.2.0",
      "_model_name": "LayoutModel",
      "_view_count": null,
      "_view_module": "@jupyter-widgets/base",
      "_view_module_version": "1.2.0",
      "_view_name": "LayoutView",
      "align_content": null,
      "align_items": null,
      "align_self": null,
      "border": null,
      "bottom": null,
      "display": null,
      "flex": null,
      "flex_flow": null,
      "grid_area": null,
      "grid_auto_columns": null,
      "grid_auto_flow": null,
      "grid_auto_rows": null,
      "grid_column": null,
      "grid_gap": null,
      "grid_row": null,
      "grid_template_areas": null,
      "grid_template_columns": null,
      "grid_template_rows": null,
      "height": null,
      "justify_content": null,
      "justify_items": null,
      "left": null,
      "margin": null,
      "max_height": null,
      "max_width": null,
      "min_height": null,
      "min_width": null,
      "object_fit": null,
      "object_position": null,
      "order": null,
      "overflow": null,
      "overflow_x": null,
      "overflow_y": null,
      "padding": null,
      "right": null,
      "top": null,
      "visibility": null,
      "width": null
     }
    },
    "1874fcfd1e024ef2b3d8b78d152ecea7": {
     "model_module": "@jupyter-widgets/controls",
     "model_module_version": "1.5.0",
     "model_name": "FloatProgressModel",
     "state": {
      "_dom_classes": [],
      "_model_module": "@jupyter-widgets/controls",
      "_model_module_version": "1.5.0",
      "_model_name": "FloatProgressModel",
      "_view_count": null,
      "_view_module": "@jupyter-widgets/controls",
      "_view_module_version": "1.5.0",
      "_view_name": "ProgressView",
      "bar_style": "success",
      "description": "",
      "description_tooltip": null,
      "layout": "IPY_MODEL_c18c346664ce416197f2856038977476",
      "max": 1094,
      "min": 0,
      "orientation": "horizontal",
      "style": "IPY_MODEL_b3de815be8b54803b4373fb69289602d",
      "value": 1094
     }
    },
    "1b9c880cb6d7456ea0fad6dcb5702717": {
     "model_module": "@jupyter-widgets/base",
     "model_module_version": "1.2.0",
     "model_name": "LayoutModel",
     "state": {
      "_model_module": "@jupyter-widgets/base",
      "_model_module_version": "1.2.0",
      "_model_name": "LayoutModel",
      "_view_count": null,
      "_view_module": "@jupyter-widgets/base",
      "_view_module_version": "1.2.0",
      "_view_name": "LayoutView",
      "align_content": null,
      "align_items": null,
      "align_self": null,
      "border": null,
      "bottom": null,
      "display": null,
      "flex": null,
      "flex_flow": null,
      "grid_area": null,
      "grid_auto_columns": null,
      "grid_auto_flow": null,
      "grid_auto_rows": null,
      "grid_column": null,
      "grid_gap": null,
      "grid_row": null,
      "grid_template_areas": null,
      "grid_template_columns": null,
      "grid_template_rows": null,
      "height": null,
      "justify_content": null,
      "justify_items": null,
      "left": null,
      "margin": null,
      "max_height": null,
      "max_width": null,
      "min_height": null,
      "min_width": null,
      "object_fit": null,
      "object_position": null,
      "order": null,
      "overflow": null,
      "overflow_x": null,
      "overflow_y": null,
      "padding": null,
      "right": null,
      "top": null,
      "visibility": null,
      "width": null
     }
    },
    "364bd0c93f44430fa477fe6aa0ba287d": {
     "model_module": "@jupyter-widgets/controls",
     "model_module_version": "1.5.0",
     "model_name": "HTMLModel",
     "state": {
      "_dom_classes": [],
      "_model_module": "@jupyter-widgets/controls",
      "_model_module_version": "1.5.0",
      "_model_name": "HTMLModel",
      "_view_count": null,
      "_view_module": "@jupyter-widgets/controls",
      "_view_module_version": "1.5.0",
      "_view_name": "HTMLView",
      "description": "",
      "description_tooltip": null,
      "layout": "IPY_MODEL_7048886528b84063b1a357668e6006c4",
      "placeholder": "​",
      "style": "IPY_MODEL_f75c0494d6d44559bb640dd4c0818348",
      "value": " 1094/1094 [00:40&lt;00:00, 21.85it/s]"
     }
    },
    "4aecfc7bfb4744c3a40fc0d90edc5737": {
     "model_module": "@jupyter-widgets/controls",
     "model_module_version": "1.5.0",
     "model_name": "HTMLModel",
     "state": {
      "_dom_classes": [],
      "_model_module": "@jupyter-widgets/controls",
      "_model_module_version": "1.5.0",
      "_model_name": "HTMLModel",
      "_view_count": null,
      "_view_module": "@jupyter-widgets/controls",
      "_view_module_version": "1.5.0",
      "_view_name": "HTMLView",
      "description": "",
      "description_tooltip": null,
      "layout": "IPY_MODEL_0855e0558a51474da9a33c36a0519297",
      "placeholder": "​",
      "style": "IPY_MODEL_96543f8745ab42fab9d0ec084f4331c3",
      "value": " 3797/3797 [02:18&lt;00:00, 31.98it/s]"
     }
    },
    "4c68fba0c3de46a39ce6dfdb67139ed3": {
     "model_module": "@jupyter-widgets/base",
     "model_module_version": "1.2.0",
     "model_name": "LayoutModel",
     "state": {
      "_model_module": "@jupyter-widgets/base",
      "_model_module_version": "1.2.0",
      "_model_name": "LayoutModel",
      "_view_count": null,
      "_view_module": "@jupyter-widgets/base",
      "_view_module_version": "1.2.0",
      "_view_name": "LayoutView",
      "align_content": null,
      "align_items": null,
      "align_self": null,
      "border": null,
      "bottom": null,
      "display": null,
      "flex": null,
      "flex_flow": null,
      "grid_area": null,
      "grid_auto_columns": null,
      "grid_auto_flow": null,
      "grid_auto_rows": null,
      "grid_column": null,
      "grid_gap": null,
      "grid_row": null,
      "grid_template_areas": null,
      "grid_template_columns": null,
      "grid_template_rows": null,
      "height": null,
      "justify_content": null,
      "justify_items": null,
      "left": null,
      "margin": null,
      "max_height": null,
      "max_width": null,
      "min_height": null,
      "min_width": null,
      "object_fit": null,
      "object_position": null,
      "order": null,
      "overflow": null,
      "overflow_x": null,
      "overflow_y": null,
      "padding": null,
      "right": null,
      "top": null,
      "visibility": null,
      "width": null
     }
    },
    "5d6155d88aee4b85802dfb94776e92cc": {
     "model_module": "@jupyter-widgets/base",
     "model_module_version": "1.2.0",
     "model_name": "LayoutModel",
     "state": {
      "_model_module": "@jupyter-widgets/base",
      "_model_module_version": "1.2.0",
      "_model_name": "LayoutModel",
      "_view_count": null,
      "_view_module": "@jupyter-widgets/base",
      "_view_module_version": "1.2.0",
      "_view_name": "LayoutView",
      "align_content": null,
      "align_items": null,
      "align_self": null,
      "border": null,
      "bottom": null,
      "display": null,
      "flex": null,
      "flex_flow": null,
      "grid_area": null,
      "grid_auto_columns": null,
      "grid_auto_flow": null,
      "grid_auto_rows": null,
      "grid_column": null,
      "grid_gap": null,
      "grid_row": null,
      "grid_template_areas": null,
      "grid_template_columns": null,
      "grid_template_rows": null,
      "height": null,
      "justify_content": null,
      "justify_items": null,
      "left": null,
      "margin": null,
      "max_height": null,
      "max_width": null,
      "min_height": null,
      "min_width": null,
      "object_fit": null,
      "object_position": null,
      "order": null,
      "overflow": null,
      "overflow_x": null,
      "overflow_y": null,
      "padding": null,
      "right": null,
      "top": null,
      "visibility": null,
      "width": null
     }
    },
    "6a33835458e04c0e8c38b2eb412e5f51": {
     "model_module": "@jupyter-widgets/controls",
     "model_module_version": "1.5.0",
     "model_name": "DescriptionStyleModel",
     "state": {
      "_model_module": "@jupyter-widgets/controls",
      "_model_module_version": "1.5.0",
      "_model_name": "DescriptionStyleModel",
      "_view_count": null,
      "_view_module": "@jupyter-widgets/base",
      "_view_module_version": "1.2.0",
      "_view_name": "StyleView",
      "description_width": ""
     }
    },
    "6b3abcd53e504e6185f6d024b4249168": {
     "model_module": "@jupyter-widgets/controls",
     "model_module_version": "1.5.0",
     "model_name": "FloatProgressModel",
     "state": {
      "_dom_classes": [],
      "_model_module": "@jupyter-widgets/controls",
      "_model_module_version": "1.5.0",
      "_model_name": "FloatProgressModel",
      "_view_count": null,
      "_view_module": "@jupyter-widgets/controls",
      "_view_module_version": "1.5.0",
      "_view_name": "ProgressView",
      "bar_style": "success",
      "description": "",
      "description_tooltip": null,
      "layout": "IPY_MODEL_4c68fba0c3de46a39ce6dfdb67139ed3",
      "max": 3797,
      "min": 0,
      "orientation": "horizontal",
      "style": "IPY_MODEL_b480ff716fb14a649107a2d22898f342",
      "value": 3797
     }
    },
    "7048886528b84063b1a357668e6006c4": {
     "model_module": "@jupyter-widgets/base",
     "model_module_version": "1.2.0",
     "model_name": "LayoutModel",
     "state": {
      "_model_module": "@jupyter-widgets/base",
      "_model_module_version": "1.2.0",
      "_model_name": "LayoutModel",
      "_view_count": null,
      "_view_module": "@jupyter-widgets/base",
      "_view_module_version": "1.2.0",
      "_view_name": "LayoutView",
      "align_content": null,
      "align_items": null,
      "align_self": null,
      "border": null,
      "bottom": null,
      "display": null,
      "flex": null,
      "flex_flow": null,
      "grid_area": null,
      "grid_auto_columns": null,
      "grid_auto_flow": null,
      "grid_auto_rows": null,
      "grid_column": null,
      "grid_gap": null,
      "grid_row": null,
      "grid_template_areas": null,
      "grid_template_columns": null,
      "grid_template_rows": null,
      "height": null,
      "justify_content": null,
      "justify_items": null,
      "left": null,
      "margin": null,
      "max_height": null,
      "max_width": null,
      "min_height": null,
      "min_width": null,
      "object_fit": null,
      "object_position": null,
      "order": null,
      "overflow": null,
      "overflow_x": null,
      "overflow_y": null,
      "padding": null,
      "right": null,
      "top": null,
      "visibility": null,
      "width": null
     }
    },
    "96543f8745ab42fab9d0ec084f4331c3": {
     "model_module": "@jupyter-widgets/controls",
     "model_module_version": "1.5.0",
     "model_name": "DescriptionStyleModel",
     "state": {
      "_model_module": "@jupyter-widgets/controls",
      "_model_module_version": "1.5.0",
      "_model_name": "DescriptionStyleModel",
      "_view_count": null,
      "_view_module": "@jupyter-widgets/base",
      "_view_module_version": "1.2.0",
      "_view_name": "StyleView",
      "description_width": ""
     }
    },
    "9e6629c0be9c485ab9667c93a59c496f": {
     "model_module": "@jupyter-widgets/base",
     "model_module_version": "1.2.0",
     "model_name": "LayoutModel",
     "state": {
      "_model_module": "@jupyter-widgets/base",
      "_model_module_version": "1.2.0",
      "_model_name": "LayoutModel",
      "_view_count": null,
      "_view_module": "@jupyter-widgets/base",
      "_view_module_version": "1.2.0",
      "_view_name": "LayoutView",
      "align_content": null,
      "align_items": null,
      "align_self": null,
      "border": null,
      "bottom": null,
      "display": null,
      "flex": null,
      "flex_flow": null,
      "grid_area": null,
      "grid_auto_columns": null,
      "grid_auto_flow": null,
      "grid_auto_rows": null,
      "grid_column": null,
      "grid_gap": null,
      "grid_row": null,
      "grid_template_areas": null,
      "grid_template_columns": null,
      "grid_template_rows": null,
      "height": null,
      "justify_content": null,
      "justify_items": null,
      "left": null,
      "margin": null,
      "max_height": null,
      "max_width": null,
      "min_height": null,
      "min_width": null,
      "object_fit": null,
      "object_position": null,
      "order": null,
      "overflow": null,
      "overflow_x": null,
      "overflow_y": null,
      "padding": null,
      "right": null,
      "top": null,
      "visibility": null,
      "width": null
     }
    },
    "9ef4508d1fb6460b8a564998971c90b8": {
     "model_module": "@jupyter-widgets/controls",
     "model_module_version": "1.5.0",
     "model_name": "DescriptionStyleModel",
     "state": {
      "_model_module": "@jupyter-widgets/controls",
      "_model_module_version": "1.5.0",
      "_model_name": "DescriptionStyleModel",
      "_view_count": null,
      "_view_module": "@jupyter-widgets/base",
      "_view_module_version": "1.2.0",
      "_view_name": "StyleView",
      "description_width": ""
     }
    },
    "ad8ee36cb63f4e928526934f23adea22": {
     "model_module": "@jupyter-widgets/controls",
     "model_module_version": "1.5.0",
     "model_name": "HBoxModel",
     "state": {
      "_dom_classes": [],
      "_model_module": "@jupyter-widgets/controls",
      "_model_module_version": "1.5.0",
      "_model_name": "HBoxModel",
      "_view_count": null,
      "_view_module": "@jupyter-widgets/controls",
      "_view_module_version": "1.5.0",
      "_view_name": "HBoxView",
      "box_style": "",
      "children": [
       "IPY_MODEL_ee48c62f8a9849479cb5eee3dcf20a64",
       "IPY_MODEL_6b3abcd53e504e6185f6d024b4249168",
       "IPY_MODEL_4aecfc7bfb4744c3a40fc0d90edc5737"
      ],
      "layout": "IPY_MODEL_9e6629c0be9c485ab9667c93a59c496f"
     }
    },
    "b3de815be8b54803b4373fb69289602d": {
     "model_module": "@jupyter-widgets/controls",
     "model_module_version": "1.5.0",
     "model_name": "ProgressStyleModel",
     "state": {
      "_model_module": "@jupyter-widgets/controls",
      "_model_module_version": "1.5.0",
      "_model_name": "ProgressStyleModel",
      "_view_count": null,
      "_view_module": "@jupyter-widgets/base",
      "_view_module_version": "1.2.0",
      "_view_name": "StyleView",
      "bar_color": null,
      "description_width": ""
     }
    },
    "b480ff716fb14a649107a2d22898f342": {
     "model_module": "@jupyter-widgets/controls",
     "model_module_version": "1.5.0",
     "model_name": "ProgressStyleModel",
     "state": {
      "_model_module": "@jupyter-widgets/controls",
      "_model_module_version": "1.5.0",
      "_model_name": "ProgressStyleModel",
      "_view_count": null,
      "_view_module": "@jupyter-widgets/base",
      "_view_module_version": "1.2.0",
      "_view_name": "StyleView",
      "bar_color": null,
      "description_width": ""
     }
    },
    "bcdd310a644b4718940ef9f603ca6a81": {
     "model_module": "@jupyter-widgets/base",
     "model_module_version": "1.2.0",
     "model_name": "LayoutModel",
     "state": {
      "_model_module": "@jupyter-widgets/base",
      "_model_module_version": "1.2.0",
      "_model_name": "LayoutModel",
      "_view_count": null,
      "_view_module": "@jupyter-widgets/base",
      "_view_module_version": "1.2.0",
      "_view_name": "LayoutView",
      "align_content": null,
      "align_items": null,
      "align_self": null,
      "border": null,
      "bottom": null,
      "display": null,
      "flex": null,
      "flex_flow": null,
      "grid_area": null,
      "grid_auto_columns": null,
      "grid_auto_flow": null,
      "grid_auto_rows": null,
      "grid_column": null,
      "grid_gap": null,
      "grid_row": null,
      "grid_template_areas": null,
      "grid_template_columns": null,
      "grid_template_rows": null,
      "height": null,
      "justify_content": null,
      "justify_items": null,
      "left": null,
      "margin": null,
      "max_height": null,
      "max_width": null,
      "min_height": null,
      "min_width": null,
      "object_fit": null,
      "object_position": null,
      "order": null,
      "overflow": null,
      "overflow_x": null,
      "overflow_y": null,
      "padding": null,
      "right": null,
      "top": null,
      "visibility": null,
      "width": null
     }
    },
    "bf3dcdbea7ad4501a14508ad8e921a07": {
     "model_module": "@jupyter-widgets/controls",
     "model_module_version": "1.5.0",
     "model_name": "HTMLModel",
     "state": {
      "_dom_classes": [],
      "_model_module": "@jupyter-widgets/controls",
      "_model_module_version": "1.5.0",
      "_model_name": "HTMLModel",
      "_view_count": null,
      "_view_module": "@jupyter-widgets/controls",
      "_view_module_version": "1.5.0",
      "_view_name": "HTMLView",
      "description": "",
      "description_tooltip": null,
      "layout": "IPY_MODEL_5d6155d88aee4b85802dfb94776e92cc",
      "placeholder": "​",
      "style": "IPY_MODEL_6a33835458e04c0e8c38b2eb412e5f51",
      "value": "100%"
     }
    },
    "c18c346664ce416197f2856038977476": {
     "model_module": "@jupyter-widgets/base",
     "model_module_version": "1.2.0",
     "model_name": "LayoutModel",
     "state": {
      "_model_module": "@jupyter-widgets/base",
      "_model_module_version": "1.2.0",
      "_model_name": "LayoutModel",
      "_view_count": null,
      "_view_module": "@jupyter-widgets/base",
      "_view_module_version": "1.2.0",
      "_view_name": "LayoutView",
      "align_content": null,
      "align_items": null,
      "align_self": null,
      "border": null,
      "bottom": null,
      "display": null,
      "flex": null,
      "flex_flow": null,
      "grid_area": null,
      "grid_auto_columns": null,
      "grid_auto_flow": null,
      "grid_auto_rows": null,
      "grid_column": null,
      "grid_gap": null,
      "grid_row": null,
      "grid_template_areas": null,
      "grid_template_columns": null,
      "grid_template_rows": null,
      "height": null,
      "justify_content": null,
      "justify_items": null,
      "left": null,
      "margin": null,
      "max_height": null,
      "max_width": null,
      "min_height": null,
      "min_width": null,
      "object_fit": null,
      "object_position": null,
      "order": null,
      "overflow": null,
      "overflow_x": null,
      "overflow_y": null,
      "padding": null,
      "right": null,
      "top": null,
      "visibility": null,
      "width": null
     }
    },
    "caff6f49c2be409a88745d819d0c3b8b": {
     "model_module": "@jupyter-widgets/controls",
     "model_module_version": "1.5.0",
     "model_name": "HBoxModel",
     "state": {
      "_dom_classes": [],
      "_model_module": "@jupyter-widgets/controls",
      "_model_module_version": "1.5.0",
      "_model_name": "HBoxModel",
      "_view_count": null,
      "_view_module": "@jupyter-widgets/controls",
      "_view_module_version": "1.5.0",
      "_view_name": "HBoxView",
      "box_style": "",
      "children": [
       "IPY_MODEL_bf3dcdbea7ad4501a14508ad8e921a07",
       "IPY_MODEL_1874fcfd1e024ef2b3d8b78d152ecea7",
       "IPY_MODEL_364bd0c93f44430fa477fe6aa0ba287d"
      ],
      "layout": "IPY_MODEL_bcdd310a644b4718940ef9f603ca6a81"
     }
    },
    "ee48c62f8a9849479cb5eee3dcf20a64": {
     "model_module": "@jupyter-widgets/controls",
     "model_module_version": "1.5.0",
     "model_name": "HTMLModel",
     "state": {
      "_dom_classes": [],
      "_model_module": "@jupyter-widgets/controls",
      "_model_module_version": "1.5.0",
      "_model_name": "HTMLModel",
      "_view_count": null,
      "_view_module": "@jupyter-widgets/controls",
      "_view_module_version": "1.5.0",
      "_view_name": "HTMLView",
      "description": "",
      "description_tooltip": null,
      "layout": "IPY_MODEL_1b9c880cb6d7456ea0fad6dcb5702717",
      "placeholder": "​",
      "style": "IPY_MODEL_9ef4508d1fb6460b8a564998971c90b8",
      "value": "100%"
     }
    },
    "f75c0494d6d44559bb640dd4c0818348": {
     "model_module": "@jupyter-widgets/controls",
     "model_module_version": "1.5.0",
     "model_name": "DescriptionStyleModel",
     "state": {
      "_model_module": "@jupyter-widgets/controls",
      "_model_module_version": "1.5.0",
      "_model_name": "DescriptionStyleModel",
      "_view_count": null,
      "_view_module": "@jupyter-widgets/base",
      "_view_module_version": "1.2.0",
      "_view_name": "StyleView",
      "description_width": ""
     }
    }
   }
  }
 },
 "nbformat": 4,
 "nbformat_minor": 0
}
